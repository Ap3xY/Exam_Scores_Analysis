{
 "cells": [
  {
   "attachments": {},
   "cell_type": "markdown",
   "metadata": {},
   "source": [
    "# Exam Scores Analysis"
   ]
  },
  {
   "attachments": {},
   "cell_type": "markdown",
   "metadata": {},
   "source": [
    "### THE SIX STAGES OF THE DATA ANALYSIS PROCESS FOR THIS PROJECT:"
   ]
  },
  {
   "attachments": {},
   "cell_type": "markdown",
   "metadata": {},
   "source": [
    "#### Ask"
   ]
  },
  {
   "attachments": {},
   "cell_type": "markdown",
   "metadata": {},
   "source": [
    "This project's objective is to analyse data from a Kaggle Exam Dataset and find ways to improve results by making use of Power BI to generate visualisations."
   ]
  },
  {
   "attachments": {},
   "cell_type": "markdown",
   "metadata": {},
   "source": [
    "#### Prepare"
   ]
  },
  {
   "attachments": {},
   "cell_type": "markdown",
   "metadata": {},
   "source": [
    "The Exam Kaggle Dataset can be found here https://www.kaggle.com/datasets/desalegngeb/students-exam-scores. The file was downloaded and store on my PC and renamed to fit the project titel."
   ]
  },
  {
   "attachments": {},
   "cell_type": "markdown",
   "metadata": {},
   "source": [
    "#### Process"
   ]
  },
  {
   "attachments": {},
   "cell_type": "markdown",
   "metadata": {},
   "source": [
    "I made use of the following tools to process this dataset:\n",
    "* **Excel**: I mainly used Excel just to scan through the data to check if its usable for the project.\n",
    "* **Power Query**: I used Power Query as a tool to clean the data.\n",
    "* **Python**: I used the pandas libaray to remove all empty cells from rows and columns.\n",
    "\n",
    "In the Processing and cleaning phase I Dropped all unneccesary columns, remove empty cells."
   ]
  },
  {
   "attachments": {},
   "cell_type": "markdown",
   "metadata": {},
   "source": [
    "#### Analyse"
   ]
  },
  {
   "attachments": {},
   "cell_type": "markdown",
   "metadata": {},
   "source": [
    "When Analysing the Dataset in Power BI I did the following:\n",
    "* I calculated the Average Exam mark based on the 3 Tests the students have written. I made use of Powerquery to add another table and added up to 3 columns and divided them by 3"
   ]
  },
  {
   "attachments": {},
   "cell_type": "markdown",
   "metadata": {},
   "source": [
    "#### Share"
   ]
  },
  {
   "attachments": {},
   "cell_type": "markdown",
   "metadata": {},
   "source": [
    "After analysing the data with Power Query and Power BI I generated the following DashBoard:"
   ]
  },
  {
   "attachments": {},
   "cell_type": "markdown",
   "metadata": {},
   "source": [
    "![Alt text](Exam%20Score%20Dashboard.pdf.jpg)"
   ]
  },
  {
   "attachments": {},
   "cell_type": "markdown",
   "metadata": {},
   "source": [
    "After Analysing and visualising the dataset the following conclusions can be made:\n",
    "* Food intake plays a significant role in determining students' scores, resulting in an average score increase of **10%** for well-nourished students. Therefore, it is imperative to ensure that all students are adequately nourished before attempting the exam.\n",
    "* Students who attended the Test Preparation Program scored an average of **7%** higher than those who did not attend. Hence, teachers should encourage more students to attend these programs.\n"
   ]
  }
 ],
 "metadata": {
  "language_info": {
   "name": "python"
  },
  "orig_nbformat": 4
 },
 "nbformat": 4,
 "nbformat_minor": 2
}
